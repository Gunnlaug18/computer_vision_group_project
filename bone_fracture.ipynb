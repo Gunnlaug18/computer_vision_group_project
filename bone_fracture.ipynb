{
 "cells": [
  {
   "cell_type": "code",
   "execution_count": 4,
   "metadata": {},
   "outputs": [],
   "source": [
    "import numpy as np\n",
    "import cv2\n",
    "\n",
    "\n",
    "def main():\n",
    "    img = cv2.imread(\"C:\\\\Users\\\\irisf\\\\Documents\\\\HR-master\\\\T-COMP-GROUPS\\\\computer_vision_group_project\\\\fractures\\\\train\\\\fractured\\\\10-rotated1-rotated1-rotated1.jpg\")\n",
    "    img_inv = cv2.bitwise_not(img)\n",
    "\n",
    "    # filter 1\n",
    "    edges = cv2.Canny(img, 60,60, apertureSize = 3)\n",
    "\n",
    "    # filter 2 combine the edge canny img with an inverted of the img\n",
    "    # convert edge to bgr format to be able to add the two images together\n",
    "    edges_bgr = cv2.cvtColor(edges, cv2.COLOR_GRAY2BGR)\n",
    "\n",
    "    # print(img_inverted.shape, edges.shape, edges_bgr.shape)\n",
    "\n",
    "    combined_img = cv2.add(img, edges_bgr)\n",
    "\n",
    "\n",
    "    cv2.imshow('org img',img)\n",
    "    # cv2.imshow('org img_inv',img_inv)\n",
    "    cv2.imshow('img edges Canny',edges)\n",
    "    # cv2.imshow('img inverted',img_inverted)\n",
    "    cv2.imshow('img combined',combined_img)\n",
    "\n",
    "    if cv2.waitKey(0):\n",
    "        cv2.destroyAllWindows()\n",
    "        return 0\n",
    "\n",
    "if __name__ == \"__main__\":\n",
    "    main()\n"
   ]
  },
  {
   "cell_type": "markdown",
   "metadata": {},
   "source": [
    "code below crashes"
   ]
  },
  {
   "cell_type": "code",
   "execution_count": null,
   "metadata": {},
   "outputs": [],
   "source": [
    "\n",
    "import sys\n",
    "import math\n",
    "import cv2 as cv\n",
    "import numpy as np\n",
    "\n",
    "def main():\n",
    "    default_file = 'C:\\\\Users\\\\irisf\\\\Documents\\\\HR-master\\\\T-COMP-GROUPS\\\\computer_vision_group_project\\\\fractures\\\\train\\\\fractured\\\\17.jpg'\n",
    "    # Loads an image\n",
    "    src = cv.imread(default_file, cv.IMREAD_GRAYSCALE)\n",
    "    # Check if image is loaded fine\n",
    "    if src is None:\n",
    "        print ('Error opening image!')\n",
    "        print ('Usage: hough_lines.py [image_name -- default ' + default_file + '] \\n')\n",
    "        return -1\n",
    "        \n",
    "    dst = cv.Canny(src, 50, 200, None, 3)\n",
    "    \n",
    "    # Copy edges to the images that will display the results in BGR\n",
    "    cdst = cv.cvtColor(dst, cv.COLOR_GRAY2BGR)\n",
    "    cdstP = np.copy(cdst)\n",
    "    \n",
    "    lines = cv.HoughLines(dst, 1, np.pi / 180, 150, None, 0, 0)\n",
    "    \n",
    "    if lines is not None:\n",
    "        for i in range(0, len(lines)):\n",
    "            rho = lines[i][0][0]\n",
    "            theta = lines[i][0][1]\n",
    "            a = math.cos(theta)\n",
    "            b = math.sin(theta)\n",
    "            x0 = a * rho\n",
    "            y0 = b * rho\n",
    "            pt1 = (int(x0 + 1000*(-b)), int(y0 + 1000*(a)))\n",
    "            pt2 = (int(x0 - 1000*(-b)), int(y0 - 1000*(a)))\n",
    "            cv.line(cdst, pt1, pt2, (0,0,255), 3, cv.LINE_AA)\n",
    "    \n",
    "    \n",
    "    linesP = cv.HoughLinesP(dst, 1, np.pi / 180, 50, None, 50, 10)\n",
    "    \n",
    "    if linesP is not None:\n",
    "        for i in range(0, len(linesP)):\n",
    "            l = linesP[i][0]\n",
    "            cv.line(cdstP, (l[0], l[1]), (l[2], l[3]), (0,0,255), 3, cv.LINE_AA)\n",
    "    \n",
    "    cv.imshow(\"Source\", src)\n",
    "    cv.imshow(\"Detected Lines (in red) - Standard Hough Line Transform\", cdst)\n",
    "    cv.imshow(\"Detected Lines (in red) - Probabilistic Line Transform\", cdstP)\n",
    "    \n",
    "    if cv.waitKey(1) & 0xFF == ord('q'):\n",
    "        return 0\n",
    "cv.destroyAllWindows()\n",
    "\n",
    "main()\n"
   ]
  }
 ],
 "metadata": {
  "kernelspec": {
   "display_name": "Python 3.10.8 ('COMPgroup')",
   "language": "python",
   "name": "python3"
  },
  "language_info": {
   "codemirror_mode": {
    "name": "ipython",
    "version": 3
   },
   "file_extension": ".py",
   "mimetype": "text/x-python",
   "name": "python",
   "nbconvert_exporter": "python",
   "pygments_lexer": "ipython3",
   "version": "3.10.8"
  },
  "orig_nbformat": 4,
  "vscode": {
   "interpreter": {
    "hash": "b5fe629317f5f64dda7668a43d82706c721ad34d867e6a97ab4e38c80f7a6f02"
   }
  }
 },
 "nbformat": 4,
 "nbformat_minor": 2
}
